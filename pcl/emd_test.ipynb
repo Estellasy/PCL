{
 "cells": [
  {
   "cell_type": "code",
   "execution_count": 1,
   "metadata": {
    "collapsed": true
   },
   "outputs": [
    {
     "data": {
      "image/png": "[encoded data removed]",
      "text/plain": [
       "<Figure size 900x300 with 2 Axes>"
      ]
     },
     "metadata": {},
     "output_type": "display_data"
    }
   ],
   "source": [
    "import torch\n",
    "import matplotlib\n",
    "import matplotlib.pyplot as plt\n",
    "from matplotlib import gridspec\n",
    "\n",
    "import sys\n",
    "sys.path.append(\"../../PCL\")\n",
    "from sinkhorn import SinkhornFunction\n",
    "\n",
    "# generate two gaussians as the source and target\n",
    "def gaussian(mean=0, std=10, n=100):\n",
    "    d = (-(torch.arange(n) - mean)**2 / (2 * std**2)).exp()\n",
    "    d /= d.sum()\n",
    "    return d\n",
    "\n",
    "n = 20\n",
    "d1 = gaussian(mean=12, std=2, n=n)\n",
    "d2 = gaussian(mean=6, std=4, n=n)\n",
    "\n",
    "dist = (torch.arange(n).view(1, n) - torch.arange(n).view(n, 1)).abs().float()\n",
    "dist /= dist.max()\n",
    "\n",
    "# visualize distr\n",
    "fig, axes = plt.subplots(1, 2, figsize=(9, 3))\n",
    "axes[0].bar(torch.arange(n), d1)\n",
    "axes[0].set_title('Source distribution')\n",
    "axes[1].bar(torch.arange(n), d2)\n",
    "axes[1].set_title('Target distribution')\n",
    "plt.tight_layout()"
   ]
  },
  {
   "cell_type": "code",
   "execution_count": 20,
   "metadata": {},
   "outputs": [
    {
     "data": {
      "text/plain": [
       "torch.Size([20])"
      ]
     },
     "execution_count": 20,
     "metadata": {},
     "output_type": "execute_result"
    }
   ],
   "source": [
    "d1.shape"
   ]
  },
  {
   "cell_type": "code",
   "execution_count": 2,
   "metadata": {},
   "outputs": [],
   "source": [
    "sinkhorn = SinkhornFunction()"
   ]
  },
  {
   "cell_type": "code",
   "execution_count": 3,
   "metadata": {},
   "outputs": [],
   "source": [
    "def sinkhorn_loss(u, v, M, reg=1e-3):\n",
    "    return SinkhornFunction.apply(u, v, M, reg)"
   ]
  },
  {
   "cell_type": "code",
   "execution_count": 26,
   "metadata": {},
   "outputs": [],
   "source": [
    "u=d1.unsqueeze(dim=0)\n",
    "v=d2.unsqueeze(dim=0)\n",
    "M=dist.unsqueeze(dim=0)\n",
    "\n",
    "u.requires_grad_()\n",
    "v.requires_grad_()\n",
    "M.requires_grad_()\n",
    "\n",
    "\n",
    "loss = sinkhorn_loss(u, v, reg=1e-2, M=M)"
   ]
  },
  {
   "cell_type": "code",
   "execution_count": 27,
   "metadata": {},
   "outputs": [
    {
     "data": {
      "text/plain": [
       "tensor(0.0146, grad_fn=<SinkhornFunctionBackward>)"
      ]
     },
     "execution_count": 27,
     "metadata": {},
     "output_type": "execute_result"
    }
   ],
   "source": [
    "loss"
   ]
  },
  {
   "cell_type": "code",
   "execution_count": 21,
   "metadata": {},
   "outputs": [
    {
     "data": {
      "text/plain": [
       "torch.Size([1, 20])"
      ]
     },
     "execution_count": 21,
     "metadata": {},
     "output_type": "execute_result"
    }
   ],
   "source": [
    "d2.unsqueeze(dim=0).shape"
   ]
  },
  {
   "cell_type": "code",
   "execution_count": 23,
   "metadata": {},
   "outputs": [
    {
     "data": {
      "text/plain": [
       "torch.Size([1, 20, 20])"
      ]
     },
     "execution_count": 23,
     "metadata": {},
     "output_type": "execute_result"
    }
   ],
   "source": [
    "dist.unsqueeze(dim=0).shape"
   ]
  },
  {
   "cell_type": "code",
   "execution_count": 28,
   "metadata": {},
   "outputs": [
    {
     "ename": "IndexError",
     "evalue": "Dimension out of range (expected to be in range of [-1, 0], but got 1)",
     "output_type": "error",
     "traceback": [
      "\u001b[0;31m---------------------------------------------------------------------------\u001b[0m",
      "\u001b[0;31mIndexError\u001b[0m                                Traceback (most recent call last)",
      "Cell \u001b[0;32mIn[28], line 60\u001b[0m\n\u001b[1;32m     57\u001b[0m x \u001b[38;5;241m=\u001b[39m torch\u001b[38;5;241m.\u001b[39mrandn((\u001b[38;5;241m1\u001b[39m, \u001b[38;5;241m1024\u001b[39m, \u001b[38;5;241m7\u001b[39m, \u001b[38;5;241m7\u001b[39m))\n\u001b[1;32m     58\u001b[0m y \u001b[38;5;241m=\u001b[39m torch\u001b[38;5;241m.\u001b[39mrandn((\u001b[38;5;241m1\u001b[39m, \u001b[38;5;241m1024\u001b[39m, \u001b[38;5;241m7\u001b[39m, \u001b[38;5;241m7\u001b[39m))\n\u001b[0;32m---> 60\u001b[0m emd_loss \u001b[38;5;241m=\u001b[39m \u001b[43mcompute_emd_loss\u001b[49m\u001b[43m(\u001b[49m\u001b[43mx\u001b[49m\u001b[43m,\u001b[49m\u001b[43m \u001b[49m\u001b[43my\u001b[49m\u001b[43m)\u001b[49m\n\u001b[1;32m     61\u001b[0m \u001b[38;5;28mprint\u001b[39m(\u001b[38;5;124mf\u001b[39m\u001b[38;5;124m'\u001b[39m\u001b[38;5;124mEMD Loss: \u001b[39m\u001b[38;5;132;01m{\u001b[39;00memd_loss\u001b[38;5;241m.\u001b[39mitem()\u001b[38;5;132;01m}\u001b[39;00m\u001b[38;5;124m'\u001b[39m)\n",
      "Cell \u001b[0;32mIn[28], line 31\u001b[0m, in \u001b[0;36mcompute_emd_loss\u001b[0;34m(x, y, reg)\u001b[0m\n\u001b[1;32m     28\u001b[0m c \u001b[38;5;241m=\u001b[39m F\u001b[38;5;241m.\u001b[39mrelu(y_flat\u001b[38;5;241m.\u001b[39mmean(dim\u001b[38;5;241m=\u001b[39m\u001b[38;5;241m1\u001b[39m))\u001b[38;5;241m.\u001b[39msum(dim\u001b[38;5;241m=\u001b[39m\u001b[38;5;241m1\u001b[39m)  \u001b[38;5;66;03m# Shape: (N, HW)\u001b[39;00m\n\u001b[1;32m     30\u001b[0m \u001b[38;5;66;03m# Normalize marginal weights\u001b[39;00m\n\u001b[0;32m---> 31\u001b[0m r \u001b[38;5;241m=\u001b[39m r \u001b[38;5;241m/\u001b[39m \u001b[43mr\u001b[49m\u001b[38;5;241;43m.\u001b[39;49m\u001b[43msum\u001b[49m\u001b[43m(\u001b[49m\u001b[43mdim\u001b[49m\u001b[38;5;241;43m=\u001b[39;49m\u001b[38;5;241;43m1\u001b[39;49m\u001b[43m,\u001b[49m\u001b[43m \u001b[49m\u001b[43mkeepdim\u001b[49m\u001b[38;5;241;43m=\u001b[39;49m\u001b[38;5;28;43;01mTrue\u001b[39;49;00m\u001b[43m)\u001b[49m  \u001b[38;5;66;03m# Shape: (N, HW)\u001b[39;00m\n\u001b[1;32m     32\u001b[0m c \u001b[38;5;241m=\u001b[39m c \u001b[38;5;241m/\u001b[39m c\u001b[38;5;241m.\u001b[39msum(dim\u001b[38;5;241m=\u001b[39m\u001b[38;5;241m1\u001b[39m, keepdim\u001b[38;5;241m=\u001b[39m\u001b[38;5;28;01mTrue\u001b[39;00m)  \u001b[38;5;66;03m# Shape: (N, HW)\u001b[39;00m\n\u001b[1;32m     34\u001b[0m \u001b[38;5;66;03m# Step 4: Sinkhorn-Knopp algorithm to solve the optimal transport problem\u001b[39;00m\n",
      "\u001b[0;31mIndexError\u001b[0m: Dimension out of range (expected to be in range of [-1, 0], but got 1)"
     ]
    }
   ],
   "source": [
    "import torch\n",
    "import torch.nn.functional as F\n",
    "\n",
    "def compute_emd_loss(x, y, reg=1e-3):\n",
    "    \"\"\"\n",
    "    Compute the Earth Mover's Distance (EMD) loss between two feature maps.\n",
    "\n",
    "    Args:\n",
    "        x (torch.Tensor): Feature map with shape (N, C, H, W).\n",
    "        y (torch.Tensor): Feature map with shape (N, C, H, W).\n",
    "        reg (float): Regularization parameter for Sinkhorn-Knopp algorithm.\n",
    "\n",
    "    Returns:\n",
    "        torch.Tensor: EMD loss between feature maps.\n",
    "    \"\"\"\n",
    "    N, C, H, W = x.shape\n",
    "\n",
    "    # Step 1: Flatten the feature maps\n",
    "    x_flat = x.view(N, C, H * W)  # Shape: (N, C, HW)\n",
    "    y_flat = y.view(N, C, H * W)  # Shape: (N, C, HW)\n",
    "\n",
    "    # Step 2: Compute similarity matrix\n",
    "    similarity_map = F.cosine_similarity(x_flat.unsqueeze(2), y_flat.unsqueeze(1), dim=1)  # Shape: (N, HW, HW)\n",
    "    cost_matrix = 1 - similarity_map  # Shape: (N, HW, HW)\n",
    "\n",
    "    # Step 3: Compute marginal weights\n",
    "    r = F.relu(x_flat.mean(dim=1)).sum(dim=1)  # Shape: (N, HW)\n",
    "    c = F.relu(y_flat.mean(dim=1)).sum(dim=1)  # Shape: (N, HW)\n",
    "\n",
    "    # Normalize marginal weights\n",
    "    r = r / r.sum(dim=1, keepdim=True)  # Shape: (N, HW)\n",
    "    c = c / c.sum(dim=1, keepdim=True)  # Shape: (N, HW)\n",
    "\n",
    "    # Step 4: Sinkhorn-Knopp algorithm to solve the optimal transport problem\n",
    "    def sinkhorn(r, c, M, reg, num_iters=100):\n",
    "        n, d1, d2 = M.shape\n",
    "        K = (-M / reg).exp()  # (n, d1, d2)\n",
    "        u = torch.ones_like(r) / d1  # (n, d1)\n",
    "        v = torch.ones_like(c) / d2  # (n, d2)\n",
    "\n",
    "        for _ in range(num_iters):\n",
    "            u = r / torch.einsum('ijk,ik->ij', [K, v])\n",
    "            v = c / torch.einsum('ikj,ik->ij', [K, u])\n",
    "\n",
    "        T = torch.einsum('ij,ik->ijk', [u, v]) * K\n",
    "        return T\n",
    "\n",
    "    T = sinkhorn(r, c, cost_matrix, reg)\n",
    "\n",
    "    # Step 5: Compute EMD loss\n",
    "    similarity_score = (T * (1 - cost_matrix)).sum(dim=1).mean()  # EMD loss\n",
    "\n",
    "    return similarity_score\n",
    "\n",
    "# Usage example\n",
    "if __name__ == \"__main__\":\n",
    "    x = torch.randn((1, 1024, 7, 7))\n",
    "    y = torch.randn((1, 1024, 7, 7))\n",
    "\n",
    "    emd_loss = compute_emd_loss(x, y)\n",
    "    print(f'EMD Loss: {emd_loss.item()}')"
   ]
  },
  {
   "cell_type": "code",
   "execution_count": null,
   "metadata": {},
   "outputs": [],
   "source": []
  }
 ],
 "metadata": {
  "kernelspec": {
   "display_name": "Python 3",
   "language": "python",
   "name": "python3"
  },
  "language_info": {
   "codemirror_mode": {
    "name": "ipython",
    "version": 3
   },
   "file_extension": ".py",
   "mimetype": "text/x-python",
   "name": "python",
   "nbconvert_exporter": "python",
   "pygments_lexer": "ipython3",
   "version": "3.8.19"
  }
 },
 "nbformat": 4,
 "nbformat_minor": 0
}
