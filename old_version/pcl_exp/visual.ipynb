{
 "cells": [
  {
   "cell_type": "code",
   "execution_count": 16,
   "metadata": {},
   "outputs": [],
   "source": [
    "import argparse\n",
    "import os\n",
    "import os.path as osp\n",
    "import time\n",
    "from collections import defaultdict\n",
    "\n",
    "import matplotlib.pyplot as plt\n",
    "import numpy as np\n",
    "import rich.progress as progress\n",
    "import torch\n",
    "import torch.nn.functional as F\n",
    "from mmengine.config import Config, DictAction\n",
    "from mmengine.device import get_device\n",
    "from mmengine.logging import MMLogger\n",
    "from mmengine.runner import Runner\n",
    "from mmengine.utils import mkdir_or_exist\n",
    "\n",
    "from mmpretrain.apis import get_model\n",
    "from mmpretrain.registry import DATASETS\n",
    "\n",
    "try:\n",
    "    from sklearn.manifold import TSNE\n",
    "except ImportError as e:\n",
    "    raise ImportError('Please install `sklearn` to calculate '\n",
    "                      'TSNE by `pip install scikit-learn`') from e"
   ]
  },
  {
   "cell_type": "code",
   "execution_count": 17,
   "metadata": {},
   "outputs": [],
   "source": [
    "work_dir = 'work_dir'\n",
    "# create work_dir\n",
    "timestamp = time.strftime('%Y%m%d_%H%M%S', time.localtime())\n",
    "tsne_work_dir = osp.join(work_dir, f'tsne_{timestamp}/')\n",
    "mkdir_or_exist(osp.abspath(tsne_work_dir))"
   ]
  },
  {
   "cell_type": "code",
   "execution_count": 18,
   "metadata": {},
   "outputs": [
    {
     "name": "stdout",
     "output_type": "stream",
     "text": [
      "=> creating model 'resnet50'\n"
     ]
    }
   ],
   "source": [
    "import pcl.loader\n",
    "import pcl.builder\n",
    "import torchvision.models as models\n",
    "\n",
    "# create model\n",
    "arch = \"resnet50\"\n",
    "low_dim = 128\n",
    "pcl_r = 32\n",
    "moco_m = 0.999\n",
    "temperature = 0.2\n",
    "mlp = True\n",
    "print(\"=> creating model '{}'\".format(arch))\n",
    "model = pcl.builder.MoCo(models.__dict__[arch], low_dim, pcl_r, moco_m, temperature, mlp)\n",
    "# print(model)\n",
    "model = model.cuda()"
   ]
  },
  {
   "cell_type": "code",
   "execution_count": 19,
   "metadata": {},
   "outputs": [
    {
     "name": "stdout",
     "output_type": "stream",
     "text": [
      "=> loading checkpoint 'experiment_pcl2/checkpoint_0139.pth.tar'\n"
     ]
    },
    {
     "data": {
      "text/plain": [
       "<All keys matched successfully>"
      ]
     },
     "execution_count": 19,
     "metadata": {},
     "output_type": "execute_result"
    }
   ],
   "source": [
    "# load model\n",
    "resume = 'experiment_pcl2/checkpoint_0139.pth.tar'\n",
    "print(\"=> loading checkpoint '{}'\".format(resume))\n",
    "loc = 'cuda:{}'.format(0)\n",
    "checkpoint = torch.load(resume, map_location=loc)\n",
    "# 去掉'module'前缀\n",
    "state_dict = checkpoint['state_dict']\n",
    "new_state_dict = {}\n",
    "for k, v in state_dict.items():\n",
    "    name = k[7:] if k.startswith('module.') else k  # 去掉 'module.' 前缀\n",
    "    new_state_dict[name] = v\n",
    "model.load_state_dict(new_state_dict)"
   ]
  },
  {
   "cell_type": "code",
   "execution_count": 37,
   "metadata": {},
   "outputs": [],
   "source": [
    "# build the dataset\n",
    "dataset_type = 'HgDataset'\n",
    "\n",
    "test_pipeline = [\n",
    "    dict(type='LoadImageFromFile'),\n",
    "    dict(type='ResizeEdge', scale=256, edge='short'),\n",
    "    dict(type='CenterCrop', crop_size=224),\n",
    "    dict(type='PackInputs'),\n",
    "]\n",
    "\n",
    "val_dataloader = dict(\n",
    "    batch_size=32,\n",
    "    num_workers=5,\n",
    "    dataset=dict(\n",
    "        type=dataset_type,\n",
    "        data_root='/home/siyi/DefectDetection/CL_for_Real/mmpretrain/data/hg',\n",
    "        split='val',\n",
    "        pipeline=test_pipeline),\n",
    "    sampler=dict(type='DefaultSampler', shuffle=False),\n",
    ")\n",
    "test_dataloader = val_dataloader\n",
    "dataloader_cfg = val_dataloader"
   ]
  },
  {
   "cell_type": "code",
   "execution_count": 38,
   "metadata": {},
   "outputs": [
    {
     "name": "stdout",
     "output_type": "stream",
     "text": [
      "self.ann_file \n",
      "self.with_label True\n",
      "{'crack': 0, 'hole': 1, 'normal': 2, 'object': 3, 'wrinkle': 4}\n",
      "('normal', 'object', 'crack', 'hole', 'wrinkle')\n"
     ]
    }
   ],
   "source": [
    "dataset = DATASETS.build(dataloader_cfg.pop('dataset'))\n",
    "classes = ('crack', 'hole', 'normal', 'object', 'wrinkle')"
   ]
  },
  {
   "cell_type": "code",
   "execution_count": 22,
   "metadata": {},
   "outputs": [],
   "source": [
    "num_classes = len(classes)\n",
    "class_idx = list(range(num_classes))"
   ]
  },
  {
   "cell_type": "code",
   "execution_count": 23,
   "metadata": {},
   "outputs": [
    {
     "name": "stdout",
     "output_type": "stream",
     "text": [
      "Apply t-SNE to visualize 278 samples.\n"
     ]
    }
   ],
   "source": [
    "# compress dataset, select that the label is less then max_num_class\n",
    "subset_idx_list = []\n",
    "counter = defaultdict(int)\n",
    "for i in range(len(dataset)):\n",
    "    gt_label = dataset.get_data_info(i)['gt_label']\n",
    "    if (gt_label in class_idx):\n",
    "            subset_idx_list.append(i)\n",
    "            counter[gt_label] += 1\n",
    "\n",
    "dataset.get_subset_(subset_idx_list)\n",
    "print(f'Apply t-SNE to visualize {len(subset_idx_list)} samples.')"
   ]
  },
  {
   "cell_type": "code",
   "execution_count": 24,
   "metadata": {},
   "outputs": [],
   "source": [
    "dataloader_cfg['dataset'] = dataset\n",
    "dataloader_cfg.setdefault('collate_fn', dict(type='default_collate'))\n",
    "dataloader = Runner.build_dataloader(dataloader_cfg)"
   ]
  },
  {
   "cell_type": "code",
   "execution_count": 25,
   "metadata": {},
   "outputs": [],
   "source": [
    "import torch\n",
    "from torchvision import transforms\n",
    "from rich.progress import track\n",
    "\n",
    "normalize = transforms.Normalize(mean=[0.485, 0.456, 0.406], std=[0.229, 0.224, 0.225])\n",
    "eval_augmentation = transforms.Compose([\n",
    "    transforms.Resize(256),\n",
    "    transforms.CenterCrop(224),\n",
    "    transforms.ToTensor(),\n",
    "    normalize\n",
    "])"
   ]
  },
  {
   "cell_type": "code",
   "execution_count": 26,
   "metadata": {},
   "outputs": [
    {
     "data": {
      "application/vnd.jupyter.widget-view+json": {
       "model_id": "ad326ab098ff4d2e813cb19ff6634706",
       "version_major": 2,
       "version_minor": 0
      },
      "text/plain": [
       "Output()"
      ]
     },
     "metadata": {},
     "output_type": "display_data"
    },
    {
     "data": {
      "text/html": [
       "<pre style=\"white-space:pre;overflow-x:auto;line-height:normal;font-family:Menlo,'DejaVu Sans Mono',consolas,'Courier New',monospace\"></pre>\n"
      ],
      "text/plain": []
     },
     "metadata": {},
     "output_type": "display_data"
    },
    {
     "data": {
      "text/html": [
       "<pre style=\"white-space:pre;overflow-x:auto;line-height:normal;font-family:Menlo,'DejaVu Sans Mono',consolas,'Courier New',monospace\">\n",
       "</pre>\n"
      ],
      "text/plain": [
       "\n"
      ]
     },
     "metadata": {},
     "output_type": "display_data"
    }
   ],
   "source": [
    "results = dict()\n",
    "features = []\n",
    "labels = []\n",
    "\n",
    "for data in progress.track(dataloader, description='Calculating...'):\n",
    "    with torch.no_grad():\n",
    "        # preprocess data\n",
    "        # 数据预处理\n",
    "        batch_inputs = data['inputs']\n",
    "        batch_inputs_augmented = []\n",
    "        for img in batch_inputs:\n",
    "            img_cpu = img.cpu()  # 将图像从 GPU 转移到 CPU\n",
    "            img_pil = transforms.ToPILImage()(img_cpu)  # 转换为 PIL 图像\n",
    "            img_augmented = eval_augmentation(img_pil)  # 执行数据增强\n",
    "            batch_inputs_augmented.append(img_augmented)  # 将增强后的图像添加到列表中\n",
    "        batch_inputs = torch.stack(batch_inputs_augmented).cuda()\n",
    "        batch_data_samples = data['data_samples']\n",
    "        batch_labels = torch.cat([i.gt_label for i in batch_data_samples])\n",
    "                \n",
    "        # extract backbone features\n",
    "        extract_args = {}\n",
    "        \n",
    "        batch_features = (model.get_feature(batch_inputs), )\n",
    "        # post process\n",
    "        if batch_features[0].ndim == 4:\n",
    "            # For (N, C, H, W) feature\n",
    "            batch_features = [\n",
    "                F.adaptive_avg_pool2d(inputs, 1).squeeze()\n",
    "                for inputs in batch_features\n",
    "            ]\n",
    "        elif batch_features[0].ndim == 3:\n",
    "            # For (N, L, C) feature\n",
    "            batch_features = [inputs.mean(1) for inputs in batch_features]\n",
    "\n",
    "    # save batch features\n",
    "    features.append(batch_features)\n",
    "    labels.extend(batch_labels.cpu().numpy())"
   ]
  },
  {
   "cell_type": "code",
   "execution_count": 27,
   "metadata": {},
   "outputs": [],
   "source": [
    "for i in range(len(features[0])):\n",
    "    key = 'feat_' + str(3)\n",
    "    results[key] = np.concatenate(\n",
    "        [batch[i].cpu().numpy() for batch in features], axis=0)"
   ]
  },
  {
   "cell_type": "code",
   "execution_count": 28,
   "metadata": {},
   "outputs": [],
   "source": [
    "# save features\n",
    "for key, val in results.items():\n",
    "    output_file = f'{tsne_work_dir}{key}.npy'\n",
    "    np.save(output_file, val)"
   ]
  },
  {
   "cell_type": "code",
   "execution_count": 29,
   "metadata": {},
   "outputs": [],
   "source": [
    "n_components = 2\n",
    "perplexity = 30.0\n",
    "early_exaggeration = 12.0\n",
    "learning_rate = 200.0\n",
    "n_iter = 1000\n",
    "n_iter_without_progress = 300\n",
    "init = 'random'\n",
    "legend = True\n",
    "show = True\n",
    "\n",
    "# build t-SNE model\n",
    "tsne_model = TSNE(\n",
    "    n_components=n_components,\n",
    "    perplexity=perplexity,\n",
    "    early_exaggeration=early_exaggeration,\n",
    "    learning_rate=learning_rate,\n",
    "    n_iter=n_iter,\n",
    "    n_iter_without_progress=n_iter_without_progress,\n",
    "    init=init)"
   ]
  },
  {
   "cell_type": "code",
   "execution_count": 39,
   "metadata": {},
   "outputs": [
    {
     "name": "stdout",
     "output_type": "stream",
     "text": [
      "Running t-SNE.\n"
     ]
    },
    {
     "data": {
      "image/png": "[encoded data removed]",
      "text/plain": [
       "<Figure size 1000x1000 with 1 Axes>"
      ]
     },
     "metadata": {},
     "output_type": "display_data"
    },
    {
     "name": "stdout",
     "output_type": "stream",
     "text": [
      "Save features and results to work_dir/tsne_20240612_210147/\n"
     ]
    },
    {
     "ename": "",
     "evalue": "",
     "output_type": "error",
     "traceback": [
      "\u001b[1;31m在当前单元格或上一个单元格中执行代码时 Kernel 崩溃。\n",
      "\u001b[1;31m请查看单元格中的代码，以确定故障的可能原因。\n",
      "\u001b[1;31m单击<a href='https://aka.ms/vscodeJupyterKernelCrash'>此处</a>了解详细信息。\n",
      "\u001b[1;31m有关更多详细信息，请查看 Jupyter <a href='command:jupyter.viewOutput'>log</a>。"
     ]
    }
   ],
   "source": [
    "print('Running t-SNE.')\n",
    "for key, val in results.items():\n",
    "    result = tsne_model.fit_transform(val)\n",
    "    res_min, res_max = result.min(0), result.max(0)\n",
    "    res_norm = (result - res_min) / (res_max - res_min)\n",
    "    _, ax = plt.subplots(figsize=(10, 10))\n",
    "    scatter = ax.scatter(\n",
    "        res_norm[:, 0],\n",
    "        res_norm[:, 1],\n",
    "        alpha=1.0,\n",
    "        s=15,\n",
    "        c=labels,\n",
    "        cmap='tab20')\n",
    "    if legend:\n",
    "        legend = ax.legend(scatter.legend_elements()[0], classes)\n",
    "        ax.add_artist(legend)\n",
    "    plt.savefig(f'{tsne_work_dir}{key}.png')\n",
    "    if show:\n",
    "        plt.show()\n",
    "print(f'Save features and results to {tsne_work_dir}')"
   ]
  },
  {
   "cell_type": "code",
   "execution_count": 31,
   "metadata": {},
   "outputs": [
    {
     "data": {
      "text/plain": [
       "[0, 1, 2, 3, 4]"
      ]
     },
     "execution_count": 31,
     "metadata": {},
     "output_type": "execute_result"
    }
   ],
   "source": [
    "classes"
   ]
  },
  {
   "cell_type": "code",
   "execution_count": null,
   "metadata": {},
   "outputs": [],
   "source": []
  }
 ],
 "metadata": {
  "kernelspec": {
   "display_name": "detection",
   "language": "python",
   "name": "python3"
  },
  "language_info": {
   "codemirror_mode": {
    "name": "ipython",
    "version": 3
   },
   "file_extension": ".py",
   "mimetype": "text/x-python",
   "name": "python",
   "nbconvert_exporter": "python",
   "pygments_lexer": "ipython3",
   "version": "3.8.18"
  }
 },
 "nbformat": 4,
 "nbformat_minor": 2
}
